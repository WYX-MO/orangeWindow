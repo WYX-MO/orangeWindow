{
 "cells": [
  {
   "cell_type": "code",
   "execution_count": 15,
   "id": "9edaf0d7",
   "metadata": {},
   "outputs": [],
   "source": [
    "#\n",
    "import json\n",
    "import os\n",
    "import matplotlib.pyplot as plt\n",
    "import numpy as np\n",
    "import torch as t\n",
    "from torch import nn\n",
    "import torch.optim as optim\n",
    "from torch.utils.data import dataloader\n",
    "import torchvision\n",
    "from torchvision import models, datasets , transforms\n",
    "import imageio\n",
    "import time\n",
    "import warnings\n",
    "import random\n",
    "import sys\n",
    "import copy\n",
    "import json\n",
    "from PIL import Image"
   ]
  },
  {
   "cell_type": "code",
   "execution_count": null,
   "id": "1575f2ac",
   "metadata": {},
   "outputs": [
    {
     "name": "stdout",
     "output_type": "stream",
     "text": [
      "{'train': Dataset ImageFolder\n",
      "    Number of datapoints: 6587\n",
      "    Root location: E:\\download\\102flowers\\train\n",
      "    StandardTransform\n",
      "Transform: Compose(\n",
      "               RandomRotation(degrees=[-45.0, 45.0], interpolation=nearest, expand=False, fill=0)\n",
      "               CenterCrop(size=(224, 224))\n",
      "               RandomHorizontalFlip(p=0.5)\n",
      "               RandomVerticalFlip(p=0.5)\n",
      "               ColorJitter(brightness=(0.8, 1.2), contrast=(0.9, 1.1), saturation=(0.9, 1.1), hue=(-0.2, 0.2))\n",
      "               RandomGrayscale(p=0.02)\n",
      "               ToTensor()\n",
      "               Normalize(mean=[0.485, 0.456, 0.406], std=[0.229, 0.224, 0.225])\n",
      "           ), 'valid': Dataset ImageFolder\n",
      "    Number of datapoints: 1602\n",
      "    Root location: E:\\download\\102flowers\\valid\n",
      "    StandardTransform\n",
      "Transform: Compose(\n",
      "               Resize(size=256, interpolation=bilinear, max_size=None, antialias=True)\n",
      "               CenterCrop(size=(224, 224))\n",
      "               ToTensor()\n",
      "               Normalize(mean=[0.485, 0.456, 0.406], std=[0.229, 0.224, 0.225])\n",
      "           )}\n"
     ]
    }
   ],
   "source": [
    "data_dir = \"E:\\\\download\\\\102flowers\"\n",
    "# 数据处理\n",
    "## 数据增强dataAugmentation\n",
    "data_transforms = {\n",
    "    \"train\":\n",
    "    transforms.Compose([transforms.RandomRotation(degrees = (-45,45)),\n",
    "    transforms.CenterCrop(224),\n",
    "    transforms.RandomHorizontalFlip(p = 0.5),\n",
    "    transforms.RandomVerticalFlip(p = 0.5),\n",
    "    transforms.ColorJitter(brightness=0.2, contrast=0.1, saturation=0.1, hue=0.2),\n",
    "    transforms.RandomGrayscale(p=0.02),\n",
    "    transforms.ToTensor(),\n",
    "    transforms.Normalize([0.485, 0.456, 0.406], [0.229, 0.224, 0.225]),\n",
    "    #transforms.Resize((224, 224))\n",
    "    ]),\n",
    "    \"valid\":\n",
    "        transforms.Compose([transforms.Resize(256),\n",
    "        transforms.CenterCrop(224),\n",
    "        transforms.ToTensor(),\n",
    "        transforms.Normalize([0.485, 0.456, 0.406], [0.229, 0.224, 0.225])\n",
    "    ])\n",
    "}\n",
    "\n",
    "batch_size =8\n",
    "image_datasets = {x:datasets.ImageFolder(os.path.join(data_dir,x),data_transforms[x]) for x in ['train','valid']}\n",
    "print(image_datasets)\n",
    "dataloaders = {x:t.utils.data.DataLoader(image_datasets[x],batch_size=batch_size,shuffle=True) for x in ['train','valid']}\n",
    "datasets_sizes = {x:len(image_datasets[x]) for x in ['train','valid']}\n",
    "class_names = image_datasets['train'].classes\n"
   ]
  },
  {
   "cell_type": "markdown",
   "id": "cc3a6264",
   "metadata": {},
   "source": [
    "### 直接加载RESNET模型进行迁移学习"
   ]
  },
  {
   "cell_type": "code",
   "execution_count": 9,
   "id": "7ff104c1",
   "metadata": {},
   "outputs": [],
   "source": [
    "model_name = 'resnet152'\n",
    "feature_extractor = True"
   ]
  },
  {
   "cell_type": "code",
   "execution_count": 6,
   "id": "45a7636a",
   "metadata": {},
   "outputs": [
    {
     "name": "stdout",
     "output_type": "stream",
     "text": [
      "CUDA is available!  Training on GPU ...\n"
     ]
    }
   ],
   "source": [
    "#检查gpu\n",
    "train_on_gpu = t.cuda.is_available()\n",
    "if train_on_gpu:\n",
    "    print('CUDA is available!  Training on GPU ...')\n",
    "else:\n",
    "    print('CUDA is not available.  Training on CPU ...')\n",
    "device = t.device(\"cuda\" if train_on_gpu else \"cpu\")"
   ]
  },
  {
   "cell_type": "code",
   "execution_count": 4,
   "id": "ed1f626c",
   "metadata": {},
   "outputs": [],
   "source": [
    "def set_parameter_requires_grad(model, feature_extracting):\n",
    "    if feature_extracting:\n",
    "        for param in model.parameters():\n",
    "            param.requires_grad = False"
   ]
  },
  {
   "cell_type": "markdown",
   "id": "3b6d18ec",
   "metadata": {},
   "source": [
    "#### 查看resnet结构"
   ]
  },
  {
   "cell_type": "code",
   "execution_count": 8,
   "id": "17748ed2",
   "metadata": {},
   "outputs": [],
   "source": [
    "model_ft = models.resnet152()\n",
    "#model_ft"
   ]
  },
  {
   "cell_type": "code",
   "execution_count": null,
   "id": "a9ba214c",
   "metadata": {},
   "outputs": [],
   "source": [
    "def initalize_model(model_name,class_num,feature_extractor,use_pretrained = True):#初始化模型(model_name:模型名称,class_num:类别数量,feature_extractor:是否冻结特征提取层,use_pretrained:是否使用预训练模型)\n",
    "    if model_name == \"resnet152\":\n",
    "        model_ft = models.resnet152(weights=models.ResNet152_Weights.IMAGENET1K_V1)\n",
    "        set_parameter_requires_grad(model_ft, feature_extractor)\n",
    "        num_ftrs = model_ft.fc.in_features\n",
    "        model_ft.fc = nn.Sequential(\n",
    "            nn.Linear(num_ftrs, class_num),\n",
    "            # nn.ReLU(),\n",
    "            # nn.Dropout(0.2),\n",
    "            # nn.Linear(256, class_num),\n",
    "            nn.LogSoftmax(dim=1)\n",
    "        )\n",
    "        input_size = 224\n",
    "    return model_ft,input_size\n"
   ]
  },
  {
   "cell_type": "code",
   "execution_count": null,
   "id": "71794111",
   "metadata": {},
   "outputs": [
    {
     "name": "stdout",
     "output_type": "stream",
     "text": [
      "fc.0.weight\n",
      "fc.0.bias\n"
     ]
    }
   ],
   "source": [
    "model_ft,input_size = initalize_model(model_name,102,feature_extractor,use_pretrained = True)\n",
    "model_ft = model_ft.to(device)#更改训练设备\n",
    "#用于保存网络\n",
    "filename = 'my_checkpoint.pth'\n",
    "\n",
    "params_to_update = model_ft.parameters()\n",
    "if feature_extractor:\n",
    "    params_to_update = []\n",
    "    for name,param in model_ft.named_parameters():\n",
    "        if param.requires_grad == True:\n",
    "            params_to_update.append(param)\n",
    "            print(name)\n",
    "else:\n",
    "    for name,param in model_ft.named_parameters():\n",
    "        if param.requires_grad == True:\n",
    "            print(name)"
   ]
  },
  {
   "cell_type": "markdown",
   "id": "4e2bcb4c",
   "metadata": {},
   "source": [
    "#### 查看修改后的网络架构"
   ]
  },
  {
   "cell_type": "code",
   "execution_count": 22,
   "id": "daa87281",
   "metadata": {},
   "outputs": [],
   "source": [
    "#model_ft"
   ]
  },
  {
   "cell_type": "markdown",
   "id": "e883349f",
   "metadata": {},
   "source": [
    "#### 优化器设置"
   ]
  },
  {
   "cell_type": "code",
   "execution_count": null,
   "id": "a3f4319e",
   "metadata": {},
   "outputs": [
    {
     "ename": "TypeError",
     "evalue": "Adam.__init__() missing 1 required positional argument: 'params'",
     "output_type": "error",
     "traceback": [
      "\u001b[1;31m---------------------------------------------------------------------------\u001b[0m",
      "\u001b[1;31mTypeError\u001b[0m                                 Traceback (most recent call last)",
      "Cell \u001b[1;32mIn[21], line 1\u001b[0m\n\u001b[1;32m----> 1\u001b[0m optimizer \u001b[38;5;241m=\u001b[39m optim\u001b[38;5;241m.\u001b[39mAdam()\n",
      "\u001b[1;31mTypeError\u001b[0m: Adam.__init__() missing 1 required positional argument: 'params'"
     ]
    }
   ],
   "source": [
    "optimizer = optim.Adam(param)"
   ]
  },
  {
   "cell_type": "code",
   "execution_count": null,
   "id": "839394e9",
   "metadata": {},
   "outputs": [],
   "source": []
  }
 ],
 "metadata": {
  "kernelspec": {
   "display_name": "base",
   "language": "python",
   "name": "python3"
  },
  "language_info": {
   "codemirror_mode": {
    "name": "ipython",
    "version": 3
   },
   "file_extension": ".py",
   "mimetype": "text/x-python",
   "name": "python",
   "nbconvert_exporter": "python",
   "pygments_lexer": "ipython3",
   "version": "3.12.7"
  }
 },
 "nbformat": 4,
 "nbformat_minor": 5
}
